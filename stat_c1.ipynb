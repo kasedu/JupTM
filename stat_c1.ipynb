{
 "cells": [
  {
   "cell_type": "code",
   "execution_count": 27,
   "metadata": {},
   "outputs": [
    {
     "name": "stdout",
     "output_type": "stream",
     "text": [
      "{xa: 10.0000000000000, za: -5.00000000000000, xb: 10.0000000000000, zb: -5.00000000000000, T: 28.5714285714286}\n"
     ]
    }
   ],
   "source": [
    "import sympy as sp\n",
    "xa, ya, za, xb, zb, T = sp.symbols('xa, ya, za, xb, zb, T')\n",
    "eq1 = sp.Eq(xa + xb - 0.7*T, 0)\n",
    "eq2 = sp.Eq(0, 0)\n",
    "eq3 = sp.Eq(za + zb +0.7*T, 10)\n",
    "eq4 = sp.Eq(4*zb + 1.4*T, 20)\n",
    "eq5 = sp.Eq(0.7*T, 20)\n",
    "eq6 = sp.Eq(-4*xb+1.4*T, 0)\n",
    "ans = sp.solve((eq1, eq2, eq3, eq4, eq5, eq6), (xa, ya, za, xb, zb, T))\n",
    "\n",
    "print(ans)\n"
   ]
  },
  {
   "cell_type": "markdown",
   "metadata": {},
   "source": [
    "$$ \\lim\\limits_{x \\to \\infty} \\exp(-x) = 0 $$"
   ]
  },
  {
   "cell_type": "code",
   "execution_count": 26,
   "metadata": {
    "pycharm": {
     "name": "#%%\n"
    }
   },
   "outputs": [
    {
     "data": {
      "text/plain": [
       "28.571428571428573"
      ]
     },
     "execution_count": 26,
     "metadata": {},
     "output_type": "execute_result"
    }
   ],
   "source": [
    "8-9\n",
    "20/0.7"
   ]
  },
  {
   "cell_type": "markdown",
   "metadata": {},
   "source": [
    "# header 1\n",
    "**This is bold text**\n",
    "__This is bold text__\n",
    "*This is italic text*\n",
    "_This is italic text_\n",
    "***Bold and Italic***\n",
    "___Bold and Italic___\n",
    "> This is a blockquote\n",
    "---\n",
    "___\n",
    "***\n",
    "- Cheese\n",
    "- Carrot\n",
    "- Coconut\n",
    "This is [a reference][id]\n",
    "[id]: https://en.wikipedia.org \"Wikipedia\"\n",
    "- [x] Some task\n",
    "- [ ] Some more task\n",
    "|Header|Header|Header|\n",
    "|------|------|------|\n",
    "|A     |B     |C     |\n",
    "|X     |Y     |Z     |\n",
    "\n",
    "<dl>\n",
    "<dt>First Term</dt>\n",
    "<dd>This is the definition of the first term.</dd>\n",
    "<dt>Second Term</dt>\n",
    "<dd>This is one definition of the second term. </dd>\n",
    "<dd>This is another definition of the second term.</dd>\n",
    "</dl>\n",
    "\n",
    "![title](img/01.png)\n",
    "\n",
    "%%html\n",
    "\n",
    "Render the cell as a block of HTML\n"
   ]
  },
  {
   "cell_type": "code",
   "execution_count": null,
   "outputs": [],
   "source": [],
   "metadata": {
    "collapsed": false,
    "pycharm": {
     "name": "#%%\n"
    }
   }
  },
  {
   "cell_type": "code",
   "execution_count": 24,
   "metadata": {
    "pycharm": {
     "name": "#%%\n"
    }
   },
   "outputs": [],
   "source": []
  },
  {
   "cell_type": "code",
   "execution_count": 24,
   "metadata": {
    "pycharm": {
     "name": "#%%\n"
    }
   },
   "outputs": [],
   "source": []
  },
  {
   "cell_type": "code",
   "execution_count": null,
   "metadata": {},
   "outputs": [],
   "source": []
  }
 ],
 "metadata": {
  "kernelspec": {
   "display_name": "Python 3",
   "language": "python",
   "name": "python3"
  },
  "language_info": {
   "codemirror_mode": {
    "name": "ipython",
    "version": 3
   },
   "file_extension": ".py",
   "mimetype": "text/x-python",
   "name": "python",
   "nbconvert_exporter": "python",
   "pygments_lexer": "ipython3",
   "version": "3.8.2"
  }
 },
 "nbformat": 4,
 "nbformat_minor": 1
}