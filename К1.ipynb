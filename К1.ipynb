{
 "cells": [
  {
   "cell_type": "markdown",
   "metadata": {},
   "source": [
    "# Образец решения задачи\n",
    "\n",
    "> <span style=\"color: darkred\"> В образце необходимо изменить данные примера на данные из задания. Предлагаемый программный код для решения может быть дополнен и изменен в случае необходимости. </span>"
   ]
  },
  {
   "cell_type": "markdown",
   "metadata": {},
   "source": [
    "## Исследование движения точки\n",
    "Движение точки задано следующими уравнениями движения:\n",
    "\n",
    "$$ x = 2 \\cos(2 \\pi t) + 2.4; $$\n",
    "\n",
    "$$ y = 4 \\cos(2 \\pi t) + 4.2. $$\n",
    "\n",
    "Считать, что $ x, y $ измеряются в сантиметрах. Заданный момент времени: $ t = t_1 = 1/3 $ с.\n",
    "\n",
    "### Определить:\n",
    "Уравненение траектории точки, положение точки на траектории (в начальный и заданный моменты времени), скорость, ускорение и радиус кривизны в заданный момент времени."
   ]
  },
  {
   "cell_type": "markdown",
   "metadata": {},
   "source": [
    "### Необходимо в ходе решения поставленной задачи выполнить:\n",
    "- [ ] записать краткое условие задачи;\n",
    "- [ ] описать порядок и найти уравнение траектории точки;\n",
    "- [ ] для начального момента времени определить положение точки на траектории;\n",
    "- [ ] для заданного момента времени определить положение точки на траектории;\n",
    "- [ ] записать формулы для нахождения скорости, получить зависимости от времени, вычислить скорость для заданного момента времени;\n",
    "- [ ] определить направление движения точки в заданный момент времени;\n",
    "- [ ] записать формулы для нахождения полного, касательного и нормального ускорений, вычислить данные ускорения для заданного момента времени;\n",
    "- [ ] найти радиус кривизны траектории точки для заданного момента времени."
   ]
  },
  {
   "cell_type": "markdown",
   "metadata": {},
   "source": [
    "###  Решение\n",
    "На основании условий задачи, с учетом выбранной системы координат, запишем уравнения движения точки:\n",
    "\n",
    "$$ x = 2 \\cos(2 \\pi t) + 2.4; $$\n",
    "\n",
    "$$ y = 4 \\cos(2 \\pi t) + 4.2. $$\n",
    "\n",
    "- [x] записать краткое условие задачи;"
   ]
  },
  {
   "cell_type": "markdown",
   "metadata": {},
   "source": [
    "Для нахождения уравнения траектории точки в явной форме необходимо исключить время из уравнений движения данной точки. Для этого используем тригонометрическую формулу:\n",
    "\n",
    "$$ \\cos(2 \\pi t) = 2 \\cos^2(\\pi t) - 1. $$\n",
    "\n",
    "С учетом этого уравнения получим:\n",
    "\n",
    "$$ x = 4 \\cos^2(\\pi t) + 0.4. $$\n",
    "\n",
    "Выполним преобразование уравнения для координаты $ y $:\n",
    "\n",
    "$$ \\frac {y - 4.2} { 4 } = \\cos(2 \\pi t). $$\n",
    "\n",
    "Тогда, после подставновки этого соотношения в координату  $ x $, получим уравнение траектории:\n",
    "\n",
    "$$ x = 0.25 (y-4.2)^2 + 0.4. $$\n",
    "\n",
    "Полученное уравнение траектории определяет параболу.\n",
    "- [x] описать порядок и найти уравнение траектории точки;"
   ]
  },
  {
   "cell_type": "markdown",
   "metadata": {},
   "source": [
    "### Построение уравнения траектории"
   ]
  },
  {
   "cell_type": "code",
   "execution_count": 9,
   "metadata": {
    "pycharm": {
     "name": "#%%\n"
    }
   },
   "outputs": [],
   "source": [
    "import numpy as np\n",
    "import matplotlib.pyplot as plt"
   ]
  },
  {
   "cell_type": "markdown",
   "metadata": {
    "pycharm": {
     "name": "#%% md\n"
    }
   },
   "source": [
    "> <span style=\"color: darkred\"> Ввод данных из условия задачи: промежуток времени для построения графиков; уравнения движения из условия задачи. Необходимо выбрать промежуток времени и ввести уравнения движения согласно заданию </span>\n",
    "\n",
    "> <span style=\"color: darkred\"> Значение label=\"$y=(x-2.4)^2+4.2$\" также необходимо заменить на свое уравнение траектории, полученное ранее. Дополнительно можно на этом же графике построить уравнение траектории по полученному уравнению. </span>"
   ]
  },
  {
   "cell_type": "code",
   "execution_count": 10,
   "metadata": {
    "pycharm": {
     "name": "#%%\n"
    }
   },
   "outputs": [
    {
     "data": {
      "text/plain": "<Figure size 432x288 with 1 Axes>",
      "image/png": "[encoded data removed]"
     },
     "metadata": {
      "needs_background": "light"
     },
     "output_type": "display_data"
    }
   ],
   "source": [
    "t = np.arange(0, 2, 0.001)\n",
    "x = 2 * np.cos(np.pi * t) + 2.4\n",
    "y = 4 * np.cos(np.pi * t) * np.cos(np.pi * t) + 4.2\n",
    "\n",
    "ax = plt.subplot(111)\n",
    "\n",
    "plt.plot(x, y, lw=3, label=\"$y=(x-2.4)^2+4.2$\")\n",
    "plt.grid()\n",
    "\n",
    "plt.legend(title=\"Уравнение траектории\", loc=0)\n",
    "plt.show()"
   ]
  },
  {
   "cell_type": "markdown",
   "metadata": {},
   "source": [
    "### Определение положения точки для начального момента времени\n",
    "\n",
    "Для нахождения положения точки в заданный момент времени подставим это время в уравнение движения.\n",
    "Заданный момент времени по условию: $ t = 0 $ с.\n",
    "Уравнения движения:\n",
    "\n",
    "$$ x = 2 \\cos(2 \\pi t) + 2.4; $$\n",
    "\n",
    "$$ y = 4 \\cos(2 \\pi t) + 4.2. $$\n",
    "\n",
    "Тогда:\n",
    "\n",
    "$$ x(t_1) = 2 \\cos(2 \\pi t) + 2.4 = 2 \\cos(2 \\pi 0) + 2.4 = 3.4 \\mbox{ см}, $$\n",
    "\n",
    "$$ y(t_1) = 4 \\cos(2 \\pi t) + 4.2 = 4 \\cos(2 \\pi 0) + 4.2 = 5.2 \\mbox{ см}. $$\n",
    "\n",
    "Координаты точки в момент времени $ t = 0 $ с будут: $ x = 4.4 $ см; $ y = 8.2 $ см.\n",
    "\n",
    " [x] для начального момента времени определить положение точки на траектории;"
   ]
  },
  {
   "cell_type": "markdown",
   "metadata": {},
   "source": [
    "### Определение положения точки для заданного момента времени\n",
    "Для нахождения положения точки в заданный момент времени подставим это время в уравнение движения.\n",
    "Заданный момент времени по условию: $ t = t_1 = 1/3 $ с.\n",
    "Уравнения движения:\n",
    "\n",
    "$$ x = 2 \\cos(2 \\pi t) + 2.4; $$\n",
    "\n",
    "$$ y = 4 \\cos(2 \\pi t) + 4.2. $$\n",
    "\n",
    "Тогда:\n",
    "\n",
    "$$ x(t_1) = 2 \\cos(2 \\pi t_1) + 2.4 = 2 \\cos(2 \\pi 1/3) + 2.4 = 3.4 \\mbox{ см}, $$\n",
    "\n",
    "$$ y(t_1) = 4 \\cos(2 \\pi t_1) + 4.2 = 4 \\cos(2 \\pi 1/3) + 4.2 = 5.2 \\mbox{ см}. $$\n",
    "\n",
    "Координаты точки в момент времени $ t = t_1 = 1/3 $ с будут: $ x = 3.4 $ см; $ y = 5.2 $ см.\n",
    "\n",
    "- [x] для заданного момента времени определить положение точки на траектории;"
   ]
  },
  {
   "cell_type": "markdown",
   "metadata": {},
   "source": [
    "### Построение положения точки в начальный и заданный моменты времени на траектории\n",
    "> <span style=\"color: darkred\"> Необходимо ввести уравнения и время согласно заданию t0, x0, y0 - для начального момента времени, t1, x1, y1 - для текущего момента времени. При построении графиков в программном коде также необходиомо значения \"label\" заменить на значения из своего задания </span>"
   ]
  },
  {
   "cell_type": "code",
   "execution_count": 11,
   "metadata": {
    "pycharm": {
     "name": "#%%\n"
    }
   },
   "outputs": [
    {
     "name": "stdout",
     "output_type": "stream",
     "text": [
      "x1= 3.4\n",
      "y1= 5.2\n",
      "x0= 4.4\n",
      "y0= 8.2\n"
     ]
    },
    {
     "data": {
      "text/plain": "<Figure size 432x288 with 1 Axes>",
      "image/png": "[encoded data removed]"
     },
     "metadata": {
      "needs_background": "light"
     },
     "output_type": "display_data"
    }
   ],
   "source": [
    "t0 = 0\n",
    "t1 = 1/3\n",
    "x1 = 2 * np.cos(np.pi * t1) + 2.4\n",
    "x1 = np.around(x1, decimals=2)\n",
    "y1 = 4 * np.cos(np.pi * t1) * np.cos(np.pi * t1) + 4.2\n",
    "y1 = np.around(y1, decimals=2)\n",
    "x0 = 2 * np.cos(np.pi * t0) + 2.4\n",
    "x0 = np.around(x0, decimals=2)\n",
    "y0 = 4 * np.cos(np.pi * t0) * np.cos(np.pi * t0) + 4.2\n",
    "y0 = np.around(y0, decimals=2)\n",
    "print('x1=', x1)\n",
    "print('y1=', y1)\n",
    "print('x0=', x0)\n",
    "print('y0=', y0)\n",
    "\n",
    "ax = plt.subplot(111)\n",
    "\n",
    "plt.plot(x1, y1, 'ro', label=(\"x(1/3)=\", x1, \"y(1/3)=\", y1))\n",
    "plt.plot(x, y, lw=3, label=\"$y=(x-2.4)^2+4.2$\")\n",
    "plt.plot(x0, y0, 'ro',color='lime', label=(\"$x_0=$\", x0, \"$y_0=$\", y0))\n",
    "plt.grid()\n",
    "plt.legend(title=\"Положения точки на траектории\", loc=0)\n",
    "plt.show()"
   ]
  },
  {
   "cell_type": "markdown",
   "metadata": {
    "pycharm": {
     "name": "#%% md\n"
    }
   },
   "source": [
    "### Нахождение скорости, определение направления движения точки в заданный момент времени\n",
    "\n",
    "Определим проекции скорости на оси координат по имеющимся уравнениям движения:\n",
    "\n",
    "$$ v_x=\\frac{dx}{dt}=-2 \\sin(\\pi t) \\cdot 2\\pi = -4\\pi \\sin(2\\pi t), $$\n",
    "\n",
    "$$ v_y=\\frac{dy}{dt}=-4 \\sin(\\pi t) \\cdot \\pi = -4\\pi \\sin(\\pi t). $$\n",
    "\n",
    "Найдем проекции скорости на оси координат в заданный момент времени:\n",
    "\n",
    "$$ v_x(t_1)= -4\\pi \\sin(2\\pi \\cdot 1/3) = -5.44 \\mbox{  см/с}, $$\n",
    "\n",
    "\n",
    "$$ v_y(t_1)= -4\\pi \\sin(\\pi \\cdot 1/3) = -10.88 \\mbox{  см/с}. $$\n",
    "\n",
    "Вычислим модуль скорости в заданный момент времени:\n",
    "\n",
    "$$ v(t_1) = \\sqrt{v_x^2 + v_y^2} = \\sqrt{(-5.44)^2 + (-10.88)^2} = 12.17 \\mbox{  см/с}.  $$\n",
    "\n",
    "Скорость точки в момент времени $ t = t_1 = 1/3 $ с будет: $ v(t_1) = 12.17 \\mbox{  см/с}.  $\n",
    "\n",
    "- [x] записать формулы для нахождения скорости, получить зависимости от времени, вычислить скорость для заданного момента времени;"
   ]
  },
  {
   "cell_type": "markdown",
   "metadata": {},
   "source": [
    "Для определения направления движения точки найдем как направлена скорость, после чего изобразим ее на траектории.\n",
    "\n",
    "Направление определим с помощью направляющих косинусов для вектора скорости, построение выполним на компьютере.\n",
    "\n",
    "$$ \\cos \\left( \\vec{v}, \\vec{i}  \\right) = \\frac {v_x}{v}  = \\frac {-5.44}{12.17} = -0.45 $$\n",
    "$$ \\cos \\left( \\vec{v}, \\vec{j}  \\right) = \\frac {v_y}{v}  = \\frac {-10.88}{12.17} = -0.89$$\n",
    "\n",
    "- [x] определить направление движения точки в заданный момент времени;"
   ]
  },
  {
   "cell_type": "markdown",
   "metadata": {},
   "source": [
    "### Построение направления\n",
    "\n",
    "> <span style=\"color: darkred\"> Для построения направления необходимо убедиться в правильности значения положения точки (параметры X, Y в программном коде) и вписать значения для проекции скорости на осви координат x, y (параметры U, V в программном коде). Значения \"label\" необходимо заменить на значения из своего задания.  </span>"
   ]
  },
  {
   "cell_type": "code",
   "execution_count": 12,
   "metadata": {
    "pycharm": {
     "name": "#%%\n"
    }
   },
   "outputs": [
    {
     "data": {
      "text/plain": "<Figure size 432x288 with 1 Axes>",
      "image/png": "[encoded data removed]"
     },
     "metadata": {
      "needs_background": "light"
     },
     "output_type": "display_data"
    }
   ],
   "source": [
    "X = x1\n",
    "Y = y1\n",
    "U = -5.44\n",
    "V = -10.88\n",
    "\n",
    "ax = plt.subplot(111)\n",
    "plt.plot(x, y, lw=3, label=\"$y=(x-2.4)^2+4.2$\")\n",
    "plt.plot(x1, y1, 'ro', label=(\"x=\", x1, \"y=\", y1))\n",
    "plt.plot(x0, y0, 'ro',color='lime', label=(\"x=\", x0, \"y=\", y0))\n",
    "plt.grid()\n",
    "\n",
    "plt.legend(title=\"Уравнение траектории\", loc=0)\n",
    "plt.text(X-0.2, Y-0.7, r\"$\\vec v$\", fontsize=18, bbox=dict(facecolor='white', alpha=0.5))\n",
    "\n",
    "plt.quiver(X, Y, U, V, angles='xy', scale_units='xy', scale=10)\n",
    "\n",
    "plt.quiver(X, Y, U, V, angles='xy', scale_units='xy', scale=10)\n",
    "\n",
    "plt.show()"
   ]
  },
  {
   "cell_type": "markdown",
   "metadata": {},
   "source": [
    "### Вычисление скорости на компьютере\n",
    "\n",
    "> <span style=\"color: darkred\"> Для вычисления скорости используется библиотека символьного вычисления. Необходимо в программный код подставить значения из своего задания для времени (параметр t1), а также уравнения движения (параметры x и y).  </span>"
   ]
  },
  {
   "cell_type": "code",
   "execution_count": 13,
   "metadata": {
    "pycharm": {
     "name": "#%%\n"
    }
   },
   "outputs": [
    {
     "name": "stdout",
     "output_type": "stream",
     "text": [
      "vx =  -5.44\n",
      "vy =  -10.88\n",
      "v =  12.17\n"
     ]
    }
   ],
   "source": [
    "from sympy import diff, symbols, cos, pi, sin\n",
    "\n",
    "t = symbols(\"t\")\n",
    "t1 = symbols(\"t1\")\n",
    "\n",
    "x = 2 * cos(pi * t)+2.4\n",
    "y = 4 * cos(pi * t) * cos(pi * t) + 4.2\n",
    "\n",
    "x1 = x.subs(t, t1)\n",
    "y1 = y.subs(t, t1)\n",
    "t1 = 1/3\n",
    "\n",
    "vel_x = diff(x, t)\n",
    "vel_y = diff(y, t)\n",
    "\n",
    "vel = (vel_x**2+vel_y**2)**0.5\n",
    "\n",
    "vel_xt = vel_x.subs(t, t1)\n",
    "vel_yt = vel_y.subs(t, t1)\n",
    "\n",
    "vel_t = (vel_xt**2+vel_yt**2)**0.5\n",
    "\n",
    "print(\"vx = \", vel_xt.round(2))\n",
    "print(\"vy = \", vel_yt.round(2))\n",
    "print(\"v = \", vel_t.round(2))\n",
    "\n",
    "\n"
   ]
  },
  {
   "cell_type": "markdown",
   "metadata": {},
   "source": [
    "### Нахождение ускорения\n",
    "Определим проекции ускорения на оси координат по полученным ранее зависимостям проекций скоростей:\n",
    "\n",
    "$$ a_x=\\frac{dv_x}{dt} = -4\\pi \\cos(2\\pi t) \\cdot 2\\pi = -8\\pi^2 \\cos(2\\pi t), $$\n",
    "\n",
    "$$ a_y=\\frac{dv_y}{dt} = -4\\pi \\cos(\\pi t) \\cdot \\pi = -4\\pi^2 \\cos(\\pi t). $$\n",
    "\n",
    "Найдем проекции скорости на оси координат в заданный момент времени:\n",
    "\n",
    "$$ a_x(t_1)= -8\\pi^2 \\cos(2\\pi \\cdot 1/3) = -9.87 \\mbox{  см/с}, $$\n",
    "\n",
    "$$ a_y(t_1)= -4\\pi^2 \\cos(\\pi \\cdot 1/3) = 39.48 \\mbox{  см/с}. $$\n",
    "\n",
    "Вычислим модуль ускорения в заданный момент времени:\n",
    "\n",
    "$$ a(t_1) = \\sqrt{a_x^2 + a_y^2} = \\sqrt{(-9.87)^2 + (39.48)^2} = 40.69 \\mbox{  см/с}^2.  $$\n",
    "\n",
    "Ускорение точки в момент времени $ t = t_1 = 1/3 $ с будет: $ a(t_1) = 40.69 \\mbox{  см/с}^2.  $"
   ]
  },
  {
   "cell_type": "markdown",
   "metadata": {},
   "source": [
    "### Вычисление ускорения на компьютере\n",
    "\n",
    "> <span style=\"color: darkred\"> Для вычисления ускорения также используется библиотека символьного вычисления. Данные берутся из ранее введенных параметров. Необходимо проверить значения полученные разными способами.  </span>"
   ]
  },
  {
   "cell_type": "code",
   "execution_count": 14,
   "metadata": {
    "pycharm": {
     "name": "#%%\n"
    }
   },
   "outputs": [
    {
     "name": "stdout",
     "output_type": "stream",
     "text": [
      "ax =  -9.87\n",
      "ay =  39.48\n",
      "a =  40.69\n"
     ]
    }
   ],
   "source": [
    "ac_x = diff(vel_x, t)\n",
    "ac_y = diff(vel_y, t)\n",
    "\n",
    "ac_xt = ac_x.subs(t, t1)\n",
    "ac_yt = ac_y.subs(t, t1)\n",
    "\n",
    "ac_t = (ac_xt**2+ac_yt**2)**0.5\n",
    "\n",
    "print(\"ax = \", ac_xt.round(2))\n",
    "print(\"ay = \", ac_yt.round(2))\n",
    "print(\"a = \", ac_t.round(2))\n"
   ]
  },
  {
   "cell_type": "markdown",
   "metadata": {},
   "source": [
    "### Нахождение проекций ускорения на естественные координатные оси\n",
    "Определим проекции ускорения на естественные координатные оси:\n",
    "Определим касательно ускорение $ a_\\tau $:\n",
    "\n",
    "$$ a_\\tau = \\frac{dv}{dt}=\\frac{v_x a_x + v_y a_y}{v},  $$\n",
    "\n",
    "после подстановки ранее найденных значений получим:\n",
    "\n",
    "$$ a_\\tau(t_1) = \\frac{v_x(t_1) a_x(t_1) + v_y(t_1) a_y(t_1)}{v(t_1)}=  $$\n",
    "\n",
    "$$  = \\frac{(-5.44) \\cdot (-9.87) + (-10.88) \\cdot (39.48)}{12.17}= -30.90  \\mbox{  см/с}^2.$$\n",
    "\n",
    "Далее вычислим проекцию ускорения на главную нормаль:\n",
    "\n",
    "$$ a = \\sqrt{a_\\tau^2 + a_n^2},  $$\n",
    "\n",
    "откуда\n",
    "\n",
    "$$ a_n = \\sqrt {a^2 - a_\\tau^2}.  $$\n",
    "\n",
    "После подстановки ранее найденных значений получим:\n",
    "\n",
    "$$ a_n(t_1) = \\sqrt {a(t_1)^2 - a_\\tau(t_1)^2} = \\sqrt {40.69^2 - (-30.90)^2} = 26.48  \\mbox{  см/с}^2.$$\n",
    "\n",
    "- [x] записать формулы для нахождения полного, касательного и нормального ускорений, вычислить данные ускорения для заданного момента времени."
   ]
  },
  {
   "cell_type": "markdown",
   "metadata": {},
   "source": [
    "### Вычисление ускорения на компьютере\n",
    "\n",
    "> <span style=\"color: darkred\"> Для вычисления проекций ускорения на естественные координатные оси также используется библиотека символьного вычисления. Данные берутся из ранее введенных параметров. Необходимо проверить значения полученные разными способами.  </span>"
   ]
  },
  {
   "cell_type": "code",
   "execution_count": 15,
   "metadata": {
    "pycharm": {
     "name": "#%%\n"
    }
   },
   "outputs": [
    {
     "name": "stdout",
     "output_type": "stream",
     "text": [
      "a_tau =  -30.90\n",
      "a_n_t =  26.48\n"
     ]
    }
   ],
   "source": [
    "ac_tau = diff(vel, t)\n",
    "ac_tau_t = ac_tau.subs(t, t1)\n",
    "\n",
    "print(\"a_tau = \", ac_tau_t.round(2))\n",
    "\n",
    "ac_n_t = (ac_t**2-ac_tau_t**2)**0.5\n",
    "print(\"a_n_t = \", ac_n_t.round(2))\n"
   ]
  },
  {
   "cell_type": "markdown",
   "metadata": {},
   "source": [
    "### Нахождение радиуса кривины траектории\n",
    "\n",
    "Для нахождения радиуса кривизны траектории воспользуемся формулой:\n",
    "\n",
    "$$ a_n = \\frac{v^2}{\\rho},  $$\n",
    "\n",
    "тогда\n",
    "\n",
    "$$ \\rho = \\frac{v^2}{a_n}.  $$\n",
    "\n",
    "После подстановки ранее найденных значений получим:\n",
    "\n",
    "$$ \\rho(t_1) = \\frac{v(t_1)^2}{a_n(t_1)} = \\frac {12.17^2} {26.48} = 5.59 \\mbox{  см.} $$\n",
    "\n",
    "- [x] найти радиус кривизны траектории точки для заданного момента времени."
   ]
  },
  {
   "cell_type": "markdown",
   "metadata": {},
   "source": [
    "### Вычисление радиуса кривизны на компьютере\n",
    "\n",
    "> <span style=\"color: darkred\"> Для вычисления радиуса кривизны используются значения, полученные ранее. Необходимо проверить значения полученные разными способами.  </span>"
   ]
  },
  {
   "cell_type": "code",
   "execution_count": 16,
   "metadata": {
    "pycharm": {
     "name": "#%%\n"
    },
    "scrolled": true
   },
   "outputs": [
    {
     "name": "stdout",
     "output_type": "stream",
     "text": [
      "ro =  5.59\n"
     ]
    }
   ],
   "source": [
    "ro = vel_t**2/ac_n_t\n",
    "print(\"ro = \", ro.round(2))"
   ]
  },
  {
   "cell_type": "markdown",
   "metadata": {
    "pycharm": {
     "name": "#%% md\n"
    }
   },
   "source": [
    "## Ответ:\n",
    "\n",
    " Уравнение траектории: $ x = 0.25 (y-4.2)^2 + 0.4. $\n",
    "\n",
    " Координаты точки в момент времени $ t = t_1 = 1/3 $ с будут: $ x = 3.4 $ см; $ y = 5.2 $ см.\n",
    "\n",
    " Скорость точки в момент времени $ t = t_1 = 1/3 $ с будет: $ v(t_1) = 12.17 \\mbox{  см/с}.  $\n",
    "\n",
    " Ускорение точки в момент времени $ t = t_1 = 1/3 $ с будет: $ a(t_1) = 40.69 \\mbox{  см/с}^2.  $\n",
    "\n",
    " Радиус кривизны траектории очки в момент времени $ t = t_1 = 1/3 $ с будет: $ \\rho(t_1) = 5.59 \\mbox{  см.} $\n"
   ]
  }
 ],
 "metadata": {
  "kernelspec": {
   "display_name": "Python 3",
   "language": "python",
   "name": "python3"
  },
  "language_info": {
   "codemirror_mode": {
    "name": "ipython",
    "version": 3
   },
   "file_extension": ".py",
   "mimetype": "text/x-python",
   "name": "python",
   "nbconvert_exporter": "python",
   "pygments_lexer": "ipython3",
   "version": "3.8.2"
  }
 },
 "nbformat": 4,
 "nbformat_minor": 1
}