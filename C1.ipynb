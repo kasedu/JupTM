{
 "cells": [
  {
   "cell_type": "markdown",
   "metadata": {},
   "source": [
    "# Образец решения задачи\n",
    "\n",
    "> <span style=\"color: darkred\"> В образце необходимо изменить данные примера на данные из задания. Предлагаемый программный код для решения может быть дополнен и изменен в случае необходимости. </span>"
   ]
  },
  {
   "cell_type": "markdown",
   "metadata": {},
   "source": [
    "# Исследование равновесия твердого тела\n",
    "## Задание\n",
    "Прямоугольная полка $ ABCD $ весом $ P = 100 \\mbox {  Н} $ находится в равновесии под действием силы $ Q = 60 \\mbox {  Н}$ (приложенной в точке $ E $ и параллельной оси $ x $) и силы $ F = 40 \\mbox {  Н}$ (приложенной в точке $ N $ и параллельной оси $ y $). Полка $ ABCD $ закреплена сферическим шарниром в точке $ A $, петлей в точке $ B $ и нитью в точке $ K $.\n",
    "\n",
    "<img src=\"C1.1.png\" alt=\"Исходный рисунок\" width=\"300\"/>\n",
    "\n",
    "Также известно, что: угол $ \\alpha = \\pi / 6 $, угол $ \\beta = \\pi / 3 $, $ AB = DC = 1.2 \\mbox { м} $, $ AD = BC = 0.6 \\mbox { м} $, $ DE = CK = CN = 0.2 \\mbox { м} $\n",
    "\n",
    "Необходимо найти реакции в точках нахождения связей."
   ]
  },
  {
   "cell_type": "markdown",
   "metadata": {},
   "source": [
    "# Решение\n",
    "Для нахождения искомых величин отбросим связи, наложенные на полку $ ABCD $, заменим их силами реакций, а также добавим вес полки, указанный в условии задачи.\n",
    "Также для решения задачи будет необходимо найти синус и косинус угла $ AKD $, которые будут равны:\n",
    "\n",
    "$$ \\cos (\\angle AKD) = \\frac {KD} {AK} = \\frac {DK} {\\sqrt {AD^2 + KD^2}} = \\frac {1} {\\sqrt {0.6^2 + 1^2}} $$\n",
    "\n",
    "$$ \\sin (\\angle AKD) = \\frac {AD} {AK} = \\frac {AD} {\\sqrt {AD^2 + KD^2}} = \\frac {0.6} {\\sqrt {0.6^2 + 1^2}} $$"
   ]
  },
  {
   "cell_type": "code",
   "execution_count": 77,
   "metadata": {
    "pycharm": {
     "name": "#%%\n"
    }
   },
   "outputs": [
    {
     "name": "stdout",
     "output_type": "stream",
     "text": [
      "cos_AKD = 0.74\n",
      "sin_AKD = 0.44\n"
     ]
    }
   ],
   "source": [
    "print(\"cos_AKD =\", round(1/(0.6**2 + 1**2), 2))\n",
    "print(\"sin_AKD =\", round(0.6/(0.6**2 + 1**2), 2))"
   ]
  },
  {
   "cell_type": "markdown",
   "source": [
    "Синус и косинус угла $ AKD $ будут равны:\n",
    "\n",
    "$$ \\cos (\\angle AKD) = 0.74 $$\n",
    "\n",
    "$$ \\sin (\\angle AKD) = 0.44 $$"
   ],
   "metadata": {
    "collapsed": false
   }
  },
  {
   "cell_type": "markdown",
   "metadata": {},
   "source": [
    "<img src=\"C1.2.png\" alt=\"Исходный рисунок\" width=\"400\"/>"
   ]
  },
  {
   "cell_type": "markdown",
   "metadata": {},
   "source": [
    "## Запишем условия равновесия для данной системы сил:\n",
    "$$ \\sum_{k=1}^{N} F_{kx} = 0: X_A + X_B - T \\cos(\\beta) \\sin(\\angle AKD) \\cos(\\alpha) - Q = 0 $$\n",
    "\n",
    "$$ \\sum_{k=1}^{N} F_{ky} = 0: Y_A - T \\cos(\\beta) \\cos(\\angle AKD) - F = 0 $$\n",
    "\n",
    "$$ \\sum_{k=1}^{N} F_{kz} = 0: Z_A + Z_B + T \\sin(\\beta) - P = 0 $$\n",
    "\n",
    "$$ \\sum_{k=1}^{N} m_x (\\vec F_k) = 0: T \\sin(\\beta)\\cdot DK + Z_B \\cdot AB - P \\cdot 0.5AB - F \\cdot BN \\sin(\\alpha) = 0 $$\n",
    "\n",
    "$$ \\sum_{k=1}^{N} m_y (\\vec F_k) = 0: Q \\cdot AD \\sin(\\alpha) + P\\cdot 0.5AD \\cos(\\alpha) - T \\sin(\\beta)\\cdot AD\\cos(\\alpha) = 0 $$\n",
    "\n",
    "$$ \\sum_{k=1}^{N} m_z (\\vec F_k) = 0: - X_B \\cdot AB - F \\cdot BN \\cos(\\alpha) + Q \\cdot DE = 0 \\\\ $$"
   ]
  },
  {
   "cell_type": "markdown",
   "source": [
    "## Подставим в уравнения известные величины:\n",
    "$$ \\sum_{k=1}^{N} F_{kx} = 0: X_A + X_B - T \\cos(\\pi / 3) \\cdot 0.44 \\cdot \\cos(\\pi / 6) - 60 = 0 $$\n",
    "\n",
    "$$ \\sum_{k=1}^{N} F_{ky} = 0: Y_A - T \\cos(\\pi / 3) \\cdot 0.74  - 40 = 0 $$\n",
    "\n",
    "$$ \\sum_{k=1}^{N} F_{kz} = 0: Z_A + Z_B + T \\sin(\\pi / 3) - 100 = 0 $$\n",
    "\n",
    "$$ \\sum_{k=1}^{N} m_x (\\vec F_k) = 0: T \\sin(\\pi / 3)\\cdot 1 + Z_B \\cdot 1.2 - 100 \\cdot 0.5 \\cdot 1.2 - 40 \\cdot 0.4 \\sin(\\pi / 6) = 0 $$\n",
    "\n",
    "$$ \\sum_{k=1}^{N} m_y (\\vec F_k) = 0: 60 \\cdot 0.6 \\sin(\\pi / 6) + 100\\cdot 0.5\\cdot 0.6 \\cos(\\pi/6) - T \\sin(\\pi / 3)\\cdot 0.6 \\cos(\\pi / 6) = 0 $$\n",
    "\n",
    "$$ \\sum_{k=1}^{N} m_z (\\vec F_k) = 0: - X_B \\cdot 1.2 - 40 \\cdot 0.4 \\cos(\\pi / 6) + 60 \\cdot 0.2 = 0 \\\\ $$\n"
   ],
   "metadata": {
    "collapsed": false
   }
  },
  {
   "cell_type": "code",
   "execution_count": 78,
   "metadata": {
    "pycharm": {
     "name": "#%%\n"
    }
   },
   "outputs": [
    {
     "name": "stdout",
     "output_type": "stream",
     "text": [
      "{xa: 80.17, ya: 76.16, za: 29.23, xb: -1.55, zb: -13.87, T: 97.74}\n"
     ]
    }
   ],
   "source": [
    "import sympy as sp\n",
    "import numpy as np\n",
    "xa, ya, za, xb, zb, T = sp.symbols('xa, ya, za, xb, zb, T')\n",
    "Fx = sp.Eq(xa + xb - T*np.cos(np.pi/3)*0.44*np.cos(np.pi/6), 60)\n",
    "Fy = sp.Eq(ya - T*np.cos(np.pi/3)*0.74, 40)\n",
    "Fz = sp.Eq(za + zb + T*np.sin(np.pi/3), 100)\n",
    "Mx = sp.Eq(T*np.sin(np.pi/3)*1 + zb*1.2, 100*0.5*1.2+40*0.4*np.sin(np.pi/6))\n",
    "My = sp.Eq(T*np.sin(np.pi/3)*0.6*np.cos(np.pi/6), 60*0.6*np.sin(np.pi/6)+100*0.5*0.6*np.cos(np.pi/6))\n",
    "Mz = sp.Eq(xb*1.2, -40*0.4*np.cos(np.pi/6)+60*0.2)\n",
    "ans = sp.solve((Fx, Fy, Fz, Mx, My, Mz), (xa, ya, za, xb, zb, T))\n",
    "for key in ans:\n",
    "    ans[key] = round(ans[key], 2)\n",
    "print(ans)"
   ]
  },
  {
   "cell_type": "markdown",
   "source": [
    "## Ответ:\n",
    "$$ X_A = 80.17  \\mbox {  Н}; Y_A = 76.16 \\mbox {  Н}; Z_A = 29.23 \\mbox {  Н}$$\n",
    "\n",
    "\n",
    "$$ X_B = -1.55  \\mbox {  Н}; Z_B = -13.87 \\mbox {  Н}; T = 97.74 \\mbox {  Н}$$"
   ],
   "metadata": {
    "collapsed": false
   }
  }
 ],
 "metadata": {
  "kernelspec": {
   "display_name": "Python 3",
   "language": "python",
   "name": "python3"
  },
  "language_info": {
   "codemirror_mode": {
    "name": "ipython",
    "version": 3
   },
   "file_extension": ".py",
   "mimetype": "text/x-python",
   "name": "python",
   "nbconvert_exporter": "python",
   "pygments_lexer": "ipython3",
   "version": "3.8.2"
  }
 },
 "nbformat": 4,
 "nbformat_minor": 1
}